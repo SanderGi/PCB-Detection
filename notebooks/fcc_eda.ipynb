{
 "cells": [
  {
   "cell_type": "code",
   "execution_count": null,
   "metadata": {},
   "outputs": [],
   "source": [
    "import os\n",
    "import matplotlib.pyplot as plt\n",
    "\n",
    "from transparent_background import Remover\n",
    "\n",
    "from IPython.display import clear_output\n",
    "clear_output()"
   ]
  },
  {
   "cell_type": "code",
   "execution_count": 2,
   "metadata": {},
   "outputs": [],
   "source": [
    "DATA_DIR = os.path.join('..', '.data', 'FCC')\n",
    "PROCESSED_DIR = os.path.join('..', 'data', 'cropped_pcbs')\n",
    "MANUAL_INSPECTION_DIR = os.path.join('..', 'data', 'manual_inspection')"
   ]
  },
  {
   "cell_type": "code",
   "execution_count": 12,
   "metadata": {},
   "outputs": [
    {
     "name": "stdout",
     "output_type": "stream",
     "text": [
      "Found 180 images to process.\n"
     ]
    }
   ],
   "source": [
    "images = [os.path.join(s, f) for s in os.listdir(DATA_DIR) if os.path.isdir(os.path.join(DATA_DIR, s)) for f in os.listdir(os.path.join(DATA_DIR, s)) if f.endswith('_image.jpg')]\n",
    "print(f\"Found {len(images)} images to process.\")"
   ]
  },
  {
   "cell_type": "code",
   "execution_count": 5,
   "metadata": {},
   "outputs": [
    {
     "name": "stderr",
     "output_type": "stream",
     "text": [
      "/Users/alex/Desktop/CS/ML/PCB-Detection/venv/lib/python3.10/site-packages/torch/functional.py:539: UserWarning: torch.meshgrid: in an upcoming release, it will be required to pass the indexing argument. (Triggered internally at /Users/runner/work/pytorch/pytorch/pytorch/aten/src/ATen/native/TensorShape.cpp:3638.)\n",
      "  return _VF.meshgrid(tensors, **kwargs)  # type: ignore[attr-defined]\n"
     ]
    },
    {
     "name": "stdout",
     "output_type": "stream",
     "text": [
      "Settings -> Mode=base, Device=mps:0, Torchscript=disabled\n"
     ]
    }
   ],
   "source": [
    "remover = Remover()"
   ]
  },
  {
   "cell_type": "code",
   "execution_count": null,
   "metadata": {},
   "outputs": [],
   "source": [
    "if not os.path.exists(MANUAL_INSPECTION_DIR):\n",
    "    os.makedirs(MANUAL_INSPECTION_DIR)\n",
    "for image_path in images:\n",
    "    if os.path.exists(os.path.join(PROCESSED_DIR, image_path.replace('.tif', '.png'))):\n",
    "        continue\n",
    "        \n",
    "    image = plt.imread(os.path.join(DATA_DIR, image_path))\n",
    "    # transparent_image = remover.process(image, threshold=0.9)\n",
    "    # plt.imsave(os.path.join(MANUAL_INSPECTION_DIR, image_path.replace(os.path.sep, '_')), transparent_image) # type: ignore\n",
    "    plt.imsave(os.path.join(MANUAL_INSPECTION_DIR, image_path.replace(os.path.sep, '_')), image) # type: ignore"
   ]
  }
 ],
 "metadata": {
  "kernelspec": {
   "display_name": "venv",
   "language": "python",
   "name": "python3"
  },
  "language_info": {
   "codemirror_mode": {
    "name": "ipython",
    "version": 3
   },
   "file_extension": ".py",
   "mimetype": "text/x-python",
   "name": "python",
   "nbconvert_exporter": "python",
   "pygments_lexer": "ipython3",
   "version": "3.10.12"
  }
 },
 "nbformat": 4,
 "nbformat_minor": 2
}
